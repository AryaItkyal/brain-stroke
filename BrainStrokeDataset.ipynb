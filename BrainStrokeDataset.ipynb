{
  "nbformat": 4,
  "nbformat_minor": 0,
  "metadata": {
    "colab": {
      "provenance": []
    },
    "kernelspec": {
      "name": "python3",
      "display_name": "Python 3"
    },
    "language_info": {
      "name": "python"
    }
  },
  "cells": [
    {
      "cell_type": "code",
      "execution_count": 2,
      "metadata": {
        "id": "XnhAjHdubD7D"
      },
      "outputs": [],
      "source": [
        "import pandas as pd\n",
        "import numpy as np"
      ]
    },
    {
      "cell_type": "code",
      "source": [
        "#from google.colab import files\n",
        "#uploaded = files.upload()"
      ],
      "metadata": {
        "id": "eSCYLuM5c5_a"
      },
      "execution_count": 3,
      "outputs": []
    },
    {
      "cell_type": "code",
      "source": [
        "#data = uploaded"
      ],
      "metadata": {
        "id": "naG_c959tVeV"
      },
      "execution_count": 4,
      "outputs": []
    },
    {
      "cell_type": "code",
      "source": [
        "#type(data)"
      ],
      "metadata": {
        "id": "AK5xOsyO7b98"
      },
      "execution_count": 5,
      "outputs": []
    },
    {
      "cell_type": "code",
      "source": [
        "df = pd.read_csv('brain_stroke.csv')"
      ],
      "metadata": {
        "id": "idlHtEYNvGTo"
      },
      "execution_count": 6,
      "outputs": []
    },
    {
      "cell_type": "code",
      "source": [
        "df.head()"
      ],
      "metadata": {
        "colab": {
          "base_uri": "https://localhost:8080/",
          "height": 287
        },
        "id": "Q4tXCKTE8cKZ",
        "outputId": "15a83da5-9119-4f5b-eb3f-e7464ad3d7da"
      },
      "execution_count": 7,
      "outputs": [
        {
          "output_type": "execute_result",
          "data": {
            "text/plain": [
              "   gender   age  hypertension  heart_disease ever_married      work_type  \\\n",
              "0    Male  67.0             0              1          Yes        Private   \n",
              "1    Male  80.0             0              1          Yes        Private   \n",
              "2  Female  49.0             0              0          Yes        Private   \n",
              "3  Female  79.0             1              0          Yes  Self-employed   \n",
              "4    Male  81.0             0              0          Yes        Private   \n",
              "\n",
              "  Residence_type  avg_glucose_level   bmi   smoking_status  stroke  \n",
              "0          Urban             228.69  36.6  formerly smoked       1  \n",
              "1          Rural             105.92  32.5     never smoked       1  \n",
              "2          Urban             171.23  34.4           smokes       1  \n",
              "3          Rural             174.12  24.0     never smoked       1  \n",
              "4          Urban             186.21  29.0  formerly smoked       1  "
            ],
            "text/html": [
              "\n",
              "  <div id=\"df-eb3445b9-683b-439c-bcf0-8b334973b6a3\">\n",
              "    <div class=\"colab-df-container\">\n",
              "      <div>\n",
              "<style scoped>\n",
              "    .dataframe tbody tr th:only-of-type {\n",
              "        vertical-align: middle;\n",
              "    }\n",
              "\n",
              "    .dataframe tbody tr th {\n",
              "        vertical-align: top;\n",
              "    }\n",
              "\n",
              "    .dataframe thead th {\n",
              "        text-align: right;\n",
              "    }\n",
              "</style>\n",
              "<table border=\"1\" class=\"dataframe\">\n",
              "  <thead>\n",
              "    <tr style=\"text-align: right;\">\n",
              "      <th></th>\n",
              "      <th>gender</th>\n",
              "      <th>age</th>\n",
              "      <th>hypertension</th>\n",
              "      <th>heart_disease</th>\n",
              "      <th>ever_married</th>\n",
              "      <th>work_type</th>\n",
              "      <th>Residence_type</th>\n",
              "      <th>avg_glucose_level</th>\n",
              "      <th>bmi</th>\n",
              "      <th>smoking_status</th>\n",
              "      <th>stroke</th>\n",
              "    </tr>\n",
              "  </thead>\n",
              "  <tbody>\n",
              "    <tr>\n",
              "      <th>0</th>\n",
              "      <td>Male</td>\n",
              "      <td>67.0</td>\n",
              "      <td>0</td>\n",
              "      <td>1</td>\n",
              "      <td>Yes</td>\n",
              "      <td>Private</td>\n",
              "      <td>Urban</td>\n",
              "      <td>228.69</td>\n",
              "      <td>36.6</td>\n",
              "      <td>formerly smoked</td>\n",
              "      <td>1</td>\n",
              "    </tr>\n",
              "    <tr>\n",
              "      <th>1</th>\n",
              "      <td>Male</td>\n",
              "      <td>80.0</td>\n",
              "      <td>0</td>\n",
              "      <td>1</td>\n",
              "      <td>Yes</td>\n",
              "      <td>Private</td>\n",
              "      <td>Rural</td>\n",
              "      <td>105.92</td>\n",
              "      <td>32.5</td>\n",
              "      <td>never smoked</td>\n",
              "      <td>1</td>\n",
              "    </tr>\n",
              "    <tr>\n",
              "      <th>2</th>\n",
              "      <td>Female</td>\n",
              "      <td>49.0</td>\n",
              "      <td>0</td>\n",
              "      <td>0</td>\n",
              "      <td>Yes</td>\n",
              "      <td>Private</td>\n",
              "      <td>Urban</td>\n",
              "      <td>171.23</td>\n",
              "      <td>34.4</td>\n",
              "      <td>smokes</td>\n",
              "      <td>1</td>\n",
              "    </tr>\n",
              "    <tr>\n",
              "      <th>3</th>\n",
              "      <td>Female</td>\n",
              "      <td>79.0</td>\n",
              "      <td>1</td>\n",
              "      <td>0</td>\n",
              "      <td>Yes</td>\n",
              "      <td>Self-employed</td>\n",
              "      <td>Rural</td>\n",
              "      <td>174.12</td>\n",
              "      <td>24.0</td>\n",
              "      <td>never smoked</td>\n",
              "      <td>1</td>\n",
              "    </tr>\n",
              "    <tr>\n",
              "      <th>4</th>\n",
              "      <td>Male</td>\n",
              "      <td>81.0</td>\n",
              "      <td>0</td>\n",
              "      <td>0</td>\n",
              "      <td>Yes</td>\n",
              "      <td>Private</td>\n",
              "      <td>Urban</td>\n",
              "      <td>186.21</td>\n",
              "      <td>29.0</td>\n",
              "      <td>formerly smoked</td>\n",
              "      <td>1</td>\n",
              "    </tr>\n",
              "  </tbody>\n",
              "</table>\n",
              "</div>\n",
              "      <button class=\"colab-df-convert\" onclick=\"convertToInteractive('df-eb3445b9-683b-439c-bcf0-8b334973b6a3')\"\n",
              "              title=\"Convert this dataframe to an interactive table.\"\n",
              "              style=\"display:none;\">\n",
              "        \n",
              "  <svg xmlns=\"http://www.w3.org/2000/svg\" height=\"24px\"viewBox=\"0 0 24 24\"\n",
              "       width=\"24px\">\n",
              "    <path d=\"M0 0h24v24H0V0z\" fill=\"none\"/>\n",
              "    <path d=\"M18.56 5.44l.94 2.06.94-2.06 2.06-.94-2.06-.94-.94-2.06-.94 2.06-2.06.94zm-11 1L8.5 8.5l.94-2.06 2.06-.94-2.06-.94L8.5 2.5l-.94 2.06-2.06.94zm10 10l.94 2.06.94-2.06 2.06-.94-2.06-.94-.94-2.06-.94 2.06-2.06.94z\"/><path d=\"M17.41 7.96l-1.37-1.37c-.4-.4-.92-.59-1.43-.59-.52 0-1.04.2-1.43.59L10.3 9.45l-7.72 7.72c-.78.78-.78 2.05 0 2.83L4 21.41c.39.39.9.59 1.41.59.51 0 1.02-.2 1.41-.59l7.78-7.78 2.81-2.81c.8-.78.8-2.07 0-2.86zM5.41 20L4 18.59l7.72-7.72 1.47 1.35L5.41 20z\"/>\n",
              "  </svg>\n",
              "      </button>\n",
              "      \n",
              "  <style>\n",
              "    .colab-df-container {\n",
              "      display:flex;\n",
              "      flex-wrap:wrap;\n",
              "      gap: 12px;\n",
              "    }\n",
              "\n",
              "    .colab-df-convert {\n",
              "      background-color: #E8F0FE;\n",
              "      border: none;\n",
              "      border-radius: 50%;\n",
              "      cursor: pointer;\n",
              "      display: none;\n",
              "      fill: #1967D2;\n",
              "      height: 32px;\n",
              "      padding: 0 0 0 0;\n",
              "      width: 32px;\n",
              "    }\n",
              "\n",
              "    .colab-df-convert:hover {\n",
              "      background-color: #E2EBFA;\n",
              "      box-shadow: 0px 1px 2px rgba(60, 64, 67, 0.3), 0px 1px 3px 1px rgba(60, 64, 67, 0.15);\n",
              "      fill: #174EA6;\n",
              "    }\n",
              "\n",
              "    [theme=dark] .colab-df-convert {\n",
              "      background-color: #3B4455;\n",
              "      fill: #D2E3FC;\n",
              "    }\n",
              "\n",
              "    [theme=dark] .colab-df-convert:hover {\n",
              "      background-color: #434B5C;\n",
              "      box-shadow: 0px 1px 3px 1px rgba(0, 0, 0, 0.15);\n",
              "      filter: drop-shadow(0px 1px 2px rgba(0, 0, 0, 0.3));\n",
              "      fill: #FFFFFF;\n",
              "    }\n",
              "  </style>\n",
              "\n",
              "      <script>\n",
              "        const buttonEl =\n",
              "          document.querySelector('#df-eb3445b9-683b-439c-bcf0-8b334973b6a3 button.colab-df-convert');\n",
              "        buttonEl.style.display =\n",
              "          google.colab.kernel.accessAllowed ? 'block' : 'none';\n",
              "\n",
              "        async function convertToInteractive(key) {\n",
              "          const element = document.querySelector('#df-eb3445b9-683b-439c-bcf0-8b334973b6a3');\n",
              "          const dataTable =\n",
              "            await google.colab.kernel.invokeFunction('convertToInteractive',\n",
              "                                                     [key], {});\n",
              "          if (!dataTable) return;\n",
              "\n",
              "          const docLinkHtml = 'Like what you see? Visit the ' +\n",
              "            '<a target=\"_blank\" href=https://colab.research.google.com/notebooks/data_table.ipynb>data table notebook</a>'\n",
              "            + ' to learn more about interactive tables.';\n",
              "          element.innerHTML = '';\n",
              "          dataTable['output_type'] = 'display_data';\n",
              "          await google.colab.output.renderOutput(dataTable, element);\n",
              "          const docLink = document.createElement('div');\n",
              "          docLink.innerHTML = docLinkHtml;\n",
              "          element.appendChild(docLink);\n",
              "        }\n",
              "      </script>\n",
              "    </div>\n",
              "  </div>\n",
              "  "
            ]
          },
          "metadata": {},
          "execution_count": 7
        }
      ]
    },
    {
      "cell_type": "code",
      "source": [
        "df.dropna"
      ],
      "metadata": {
        "colab": {
          "base_uri": "https://localhost:8080/"
        },
        "id": "d4JfwqzG8c1e",
        "outputId": "08c5a86e-4fe5-4496-dba2-7ce4d4878725"
      },
      "execution_count": 8,
      "outputs": [
        {
          "output_type": "execute_result",
          "data": {
            "text/plain": [
              "<bound method DataFrame.dropna of       gender   age  hypertension  heart_disease ever_married      work_type  \\\n",
              "0       Male  67.0             0              1          Yes        Private   \n",
              "1       Male  80.0             0              1          Yes        Private   \n",
              "2     Female  49.0             0              0          Yes        Private   \n",
              "3     Female  79.0             1              0          Yes  Self-employed   \n",
              "4       Male  81.0             0              0          Yes        Private   \n",
              "...      ...   ...           ...            ...          ...            ...   \n",
              "4976    Male  41.0             0              0           No        Private   \n",
              "4977    Male  40.0             0              0          Yes        Private   \n",
              "4978  Female  45.0             1              0          Yes       Govt_job   \n",
              "4979    Male  40.0             0              0          Yes        Private   \n",
              "4980  Female  80.0             1              0          Yes        Private   \n",
              "\n",
              "     Residence_type  avg_glucose_level   bmi   smoking_status  stroke  \n",
              "0             Urban             228.69  36.6  formerly smoked       1  \n",
              "1             Rural             105.92  32.5     never smoked       1  \n",
              "2             Urban             171.23  34.4           smokes       1  \n",
              "3             Rural             174.12  24.0     never smoked       1  \n",
              "4             Urban             186.21  29.0  formerly smoked       1  \n",
              "...             ...                ...   ...              ...     ...  \n",
              "4976          Rural              70.15  29.8  formerly smoked       0  \n",
              "4977          Urban             191.15  31.1           smokes       0  \n",
              "4978          Rural              95.02  31.8           smokes       0  \n",
              "4979          Rural              83.94  30.0           smokes       0  \n",
              "4980          Urban              83.75  29.1     never smoked       0  \n",
              "\n",
              "[4981 rows x 11 columns]>"
            ]
          },
          "metadata": {},
          "execution_count": 8
        }
      ]
    },
    {
      "cell_type": "code",
      "source": [
        "df.isna"
      ],
      "metadata": {
        "colab": {
          "base_uri": "https://localhost:8080/"
        },
        "id": "FbEkN0y_8uRE",
        "outputId": "ca1fb00d-4258-4fb7-c2a1-f260faf6a8ae"
      },
      "execution_count": 9,
      "outputs": [
        {
          "output_type": "execute_result",
          "data": {
            "text/plain": [
              "<bound method DataFrame.isna of       gender   age  hypertension  heart_disease ever_married      work_type  \\\n",
              "0       Male  67.0             0              1          Yes        Private   \n",
              "1       Male  80.0             0              1          Yes        Private   \n",
              "2     Female  49.0             0              0          Yes        Private   \n",
              "3     Female  79.0             1              0          Yes  Self-employed   \n",
              "4       Male  81.0             0              0          Yes        Private   \n",
              "...      ...   ...           ...            ...          ...            ...   \n",
              "4976    Male  41.0             0              0           No        Private   \n",
              "4977    Male  40.0             0              0          Yes        Private   \n",
              "4978  Female  45.0             1              0          Yes       Govt_job   \n",
              "4979    Male  40.0             0              0          Yes        Private   \n",
              "4980  Female  80.0             1              0          Yes        Private   \n",
              "\n",
              "     Residence_type  avg_glucose_level   bmi   smoking_status  stroke  \n",
              "0             Urban             228.69  36.6  formerly smoked       1  \n",
              "1             Rural             105.92  32.5     never smoked       1  \n",
              "2             Urban             171.23  34.4           smokes       1  \n",
              "3             Rural             174.12  24.0     never smoked       1  \n",
              "4             Urban             186.21  29.0  formerly smoked       1  \n",
              "...             ...                ...   ...              ...     ...  \n",
              "4976          Rural              70.15  29.8  formerly smoked       0  \n",
              "4977          Urban             191.15  31.1           smokes       0  \n",
              "4978          Rural              95.02  31.8           smokes       0  \n",
              "4979          Rural              83.94  30.0           smokes       0  \n",
              "4980          Urban              83.75  29.1     never smoked       0  \n",
              "\n",
              "[4981 rows x 11 columns]>"
            ]
          },
          "metadata": {},
          "execution_count": 9
        }
      ]
    },
    {
      "cell_type": "code",
      "source": [
        "df.isna().sum()"
      ],
      "metadata": {
        "colab": {
          "base_uri": "https://localhost:8080/"
        },
        "id": "REiXjCs89PuV",
        "outputId": "0488e93a-f421-4e8d-ab37-368803ec1efa"
      },
      "execution_count": 10,
      "outputs": [
        {
          "output_type": "execute_result",
          "data": {
            "text/plain": [
              "gender               0\n",
              "age                  0\n",
              "hypertension         0\n",
              "heart_disease        0\n",
              "ever_married         0\n",
              "work_type            0\n",
              "Residence_type       0\n",
              "avg_glucose_level    0\n",
              "bmi                  0\n",
              "smoking_status       0\n",
              "stroke               0\n",
              "dtype: int64"
            ]
          },
          "metadata": {},
          "execution_count": 10
        }
      ]
    },
    {
      "cell_type": "code",
      "source": [
        "data = pd.get_dummies(df, columns=['work_type','Residence_type','smoking_status'])"
      ],
      "metadata": {
        "id": "YmGmXp_z90ce"
      },
      "execution_count": 11,
      "outputs": []
    },
    {
      "cell_type": "code",
      "source": [
        "df['ever_married'].value_counts()"
      ],
      "metadata": {
        "colab": {
          "base_uri": "https://localhost:8080/"
        },
        "id": "jq85NCp3-boN",
        "outputId": "022b9fe5-c213-4da8-feb2-c5b35dc0194c"
      },
      "execution_count": 12,
      "outputs": [
        {
          "output_type": "execute_result",
          "data": {
            "text/plain": [
              "Yes    3280\n",
              "No     1701\n",
              "Name: ever_married, dtype: int64"
            ]
          },
          "metadata": {},
          "execution_count": 12
        }
      ]
    },
    {
      "cell_type": "code",
      "source": [
        "data = pd.get_dummies(data, columns=['ever_married'], drop_first=True)\n",
        "data = pd.get_dummies(data, columns=['gender'], drop_first=True)"
      ],
      "metadata": {
        "id": "KyGfcAe3-N9y"
      },
      "execution_count": 13,
      "outputs": []
    },
    {
      "cell_type": "code",
      "source": [
        "data.head()"
      ],
      "metadata": {
        "colab": {
          "base_uri": "https://localhost:8080/",
          "height": 287
        },
        "id": "t0gOjrph-Oq8",
        "outputId": "108f1c98-7094-4fe5-f7a5-682c37a67bc7"
      },
      "execution_count": 14,
      "outputs": [
        {
          "output_type": "execute_result",
          "data": {
            "text/plain": [
              "    age  hypertension  heart_disease  avg_glucose_level   bmi  stroke  \\\n",
              "0  67.0             0              1             228.69  36.6       1   \n",
              "1  80.0             0              1             105.92  32.5       1   \n",
              "2  49.0             0              0             171.23  34.4       1   \n",
              "3  79.0             1              0             174.12  24.0       1   \n",
              "4  81.0             0              0             186.21  29.0       1   \n",
              "\n",
              "   work_type_Govt_job  work_type_Private  work_type_Self-employed  \\\n",
              "0                   0                  1                        0   \n",
              "1                   0                  1                        0   \n",
              "2                   0                  1                        0   \n",
              "3                   0                  0                        1   \n",
              "4                   0                  1                        0   \n",
              "\n",
              "   work_type_children  Residence_type_Rural  Residence_type_Urban  \\\n",
              "0                   0                     0                     1   \n",
              "1                   0                     1                     0   \n",
              "2                   0                     0                     1   \n",
              "3                   0                     1                     0   \n",
              "4                   0                     0                     1   \n",
              "\n",
              "   smoking_status_Unknown  smoking_status_formerly smoked  \\\n",
              "0                       0                               1   \n",
              "1                       0                               0   \n",
              "2                       0                               0   \n",
              "3                       0                               0   \n",
              "4                       0                               1   \n",
              "\n",
              "   smoking_status_never smoked  smoking_status_smokes  ever_married_Yes  \\\n",
              "0                            0                      0                 1   \n",
              "1                            1                      0                 1   \n",
              "2                            0                      1                 1   \n",
              "3                            1                      0                 1   \n",
              "4                            0                      0                 1   \n",
              "\n",
              "   gender_Male  \n",
              "0            1  \n",
              "1            1  \n",
              "2            0  \n",
              "3            0  \n",
              "4            1  "
            ],
            "text/html": [
              "\n",
              "  <div id=\"df-db921ebd-cd25-4d9e-86ae-0026a7e057e2\">\n",
              "    <div class=\"colab-df-container\">\n",
              "      <div>\n",
              "<style scoped>\n",
              "    .dataframe tbody tr th:only-of-type {\n",
              "        vertical-align: middle;\n",
              "    }\n",
              "\n",
              "    .dataframe tbody tr th {\n",
              "        vertical-align: top;\n",
              "    }\n",
              "\n",
              "    .dataframe thead th {\n",
              "        text-align: right;\n",
              "    }\n",
              "</style>\n",
              "<table border=\"1\" class=\"dataframe\">\n",
              "  <thead>\n",
              "    <tr style=\"text-align: right;\">\n",
              "      <th></th>\n",
              "      <th>age</th>\n",
              "      <th>hypertension</th>\n",
              "      <th>heart_disease</th>\n",
              "      <th>avg_glucose_level</th>\n",
              "      <th>bmi</th>\n",
              "      <th>stroke</th>\n",
              "      <th>work_type_Govt_job</th>\n",
              "      <th>work_type_Private</th>\n",
              "      <th>work_type_Self-employed</th>\n",
              "      <th>work_type_children</th>\n",
              "      <th>Residence_type_Rural</th>\n",
              "      <th>Residence_type_Urban</th>\n",
              "      <th>smoking_status_Unknown</th>\n",
              "      <th>smoking_status_formerly smoked</th>\n",
              "      <th>smoking_status_never smoked</th>\n",
              "      <th>smoking_status_smokes</th>\n",
              "      <th>ever_married_Yes</th>\n",
              "      <th>gender_Male</th>\n",
              "    </tr>\n",
              "  </thead>\n",
              "  <tbody>\n",
              "    <tr>\n",
              "      <th>0</th>\n",
              "      <td>67.0</td>\n",
              "      <td>0</td>\n",
              "      <td>1</td>\n",
              "      <td>228.69</td>\n",
              "      <td>36.6</td>\n",
              "      <td>1</td>\n",
              "      <td>0</td>\n",
              "      <td>1</td>\n",
              "      <td>0</td>\n",
              "      <td>0</td>\n",
              "      <td>0</td>\n",
              "      <td>1</td>\n",
              "      <td>0</td>\n",
              "      <td>1</td>\n",
              "      <td>0</td>\n",
              "      <td>0</td>\n",
              "      <td>1</td>\n",
              "      <td>1</td>\n",
              "    </tr>\n",
              "    <tr>\n",
              "      <th>1</th>\n",
              "      <td>80.0</td>\n",
              "      <td>0</td>\n",
              "      <td>1</td>\n",
              "      <td>105.92</td>\n",
              "      <td>32.5</td>\n",
              "      <td>1</td>\n",
              "      <td>0</td>\n",
              "      <td>1</td>\n",
              "      <td>0</td>\n",
              "      <td>0</td>\n",
              "      <td>1</td>\n",
              "      <td>0</td>\n",
              "      <td>0</td>\n",
              "      <td>0</td>\n",
              "      <td>1</td>\n",
              "      <td>0</td>\n",
              "      <td>1</td>\n",
              "      <td>1</td>\n",
              "    </tr>\n",
              "    <tr>\n",
              "      <th>2</th>\n",
              "      <td>49.0</td>\n",
              "      <td>0</td>\n",
              "      <td>0</td>\n",
              "      <td>171.23</td>\n",
              "      <td>34.4</td>\n",
              "      <td>1</td>\n",
              "      <td>0</td>\n",
              "      <td>1</td>\n",
              "      <td>0</td>\n",
              "      <td>0</td>\n",
              "      <td>0</td>\n",
              "      <td>1</td>\n",
              "      <td>0</td>\n",
              "      <td>0</td>\n",
              "      <td>0</td>\n",
              "      <td>1</td>\n",
              "      <td>1</td>\n",
              "      <td>0</td>\n",
              "    </tr>\n",
              "    <tr>\n",
              "      <th>3</th>\n",
              "      <td>79.0</td>\n",
              "      <td>1</td>\n",
              "      <td>0</td>\n",
              "      <td>174.12</td>\n",
              "      <td>24.0</td>\n",
              "      <td>1</td>\n",
              "      <td>0</td>\n",
              "      <td>0</td>\n",
              "      <td>1</td>\n",
              "      <td>0</td>\n",
              "      <td>1</td>\n",
              "      <td>0</td>\n",
              "      <td>0</td>\n",
              "      <td>0</td>\n",
              "      <td>1</td>\n",
              "      <td>0</td>\n",
              "      <td>1</td>\n",
              "      <td>0</td>\n",
              "    </tr>\n",
              "    <tr>\n",
              "      <th>4</th>\n",
              "      <td>81.0</td>\n",
              "      <td>0</td>\n",
              "      <td>0</td>\n",
              "      <td>186.21</td>\n",
              "      <td>29.0</td>\n",
              "      <td>1</td>\n",
              "      <td>0</td>\n",
              "      <td>1</td>\n",
              "      <td>0</td>\n",
              "      <td>0</td>\n",
              "      <td>0</td>\n",
              "      <td>1</td>\n",
              "      <td>0</td>\n",
              "      <td>1</td>\n",
              "      <td>0</td>\n",
              "      <td>0</td>\n",
              "      <td>1</td>\n",
              "      <td>1</td>\n",
              "    </tr>\n",
              "  </tbody>\n",
              "</table>\n",
              "</div>\n",
              "      <button class=\"colab-df-convert\" onclick=\"convertToInteractive('df-db921ebd-cd25-4d9e-86ae-0026a7e057e2')\"\n",
              "              title=\"Convert this dataframe to an interactive table.\"\n",
              "              style=\"display:none;\">\n",
              "        \n",
              "  <svg xmlns=\"http://www.w3.org/2000/svg\" height=\"24px\"viewBox=\"0 0 24 24\"\n",
              "       width=\"24px\">\n",
              "    <path d=\"M0 0h24v24H0V0z\" fill=\"none\"/>\n",
              "    <path d=\"M18.56 5.44l.94 2.06.94-2.06 2.06-.94-2.06-.94-.94-2.06-.94 2.06-2.06.94zm-11 1L8.5 8.5l.94-2.06 2.06-.94-2.06-.94L8.5 2.5l-.94 2.06-2.06.94zm10 10l.94 2.06.94-2.06 2.06-.94-2.06-.94-.94-2.06-.94 2.06-2.06.94z\"/><path d=\"M17.41 7.96l-1.37-1.37c-.4-.4-.92-.59-1.43-.59-.52 0-1.04.2-1.43.59L10.3 9.45l-7.72 7.72c-.78.78-.78 2.05 0 2.83L4 21.41c.39.39.9.59 1.41.59.51 0 1.02-.2 1.41-.59l7.78-7.78 2.81-2.81c.8-.78.8-2.07 0-2.86zM5.41 20L4 18.59l7.72-7.72 1.47 1.35L5.41 20z\"/>\n",
              "  </svg>\n",
              "      </button>\n",
              "      \n",
              "  <style>\n",
              "    .colab-df-container {\n",
              "      display:flex;\n",
              "      flex-wrap:wrap;\n",
              "      gap: 12px;\n",
              "    }\n",
              "\n",
              "    .colab-df-convert {\n",
              "      background-color: #E8F0FE;\n",
              "      border: none;\n",
              "      border-radius: 50%;\n",
              "      cursor: pointer;\n",
              "      display: none;\n",
              "      fill: #1967D2;\n",
              "      height: 32px;\n",
              "      padding: 0 0 0 0;\n",
              "      width: 32px;\n",
              "    }\n",
              "\n",
              "    .colab-df-convert:hover {\n",
              "      background-color: #E2EBFA;\n",
              "      box-shadow: 0px 1px 2px rgba(60, 64, 67, 0.3), 0px 1px 3px 1px rgba(60, 64, 67, 0.15);\n",
              "      fill: #174EA6;\n",
              "    }\n",
              "\n",
              "    [theme=dark] .colab-df-convert {\n",
              "      background-color: #3B4455;\n",
              "      fill: #D2E3FC;\n",
              "    }\n",
              "\n",
              "    [theme=dark] .colab-df-convert:hover {\n",
              "      background-color: #434B5C;\n",
              "      box-shadow: 0px 1px 3px 1px rgba(0, 0, 0, 0.15);\n",
              "      filter: drop-shadow(0px 1px 2px rgba(0, 0, 0, 0.3));\n",
              "      fill: #FFFFFF;\n",
              "    }\n",
              "  </style>\n",
              "\n",
              "      <script>\n",
              "        const buttonEl =\n",
              "          document.querySelector('#df-db921ebd-cd25-4d9e-86ae-0026a7e057e2 button.colab-df-convert');\n",
              "        buttonEl.style.display =\n",
              "          google.colab.kernel.accessAllowed ? 'block' : 'none';\n",
              "\n",
              "        async function convertToInteractive(key) {\n",
              "          const element = document.querySelector('#df-db921ebd-cd25-4d9e-86ae-0026a7e057e2');\n",
              "          const dataTable =\n",
              "            await google.colab.kernel.invokeFunction('convertToInteractive',\n",
              "                                                     [key], {});\n",
              "          if (!dataTable) return;\n",
              "\n",
              "          const docLinkHtml = 'Like what you see? Visit the ' +\n",
              "            '<a target=\"_blank\" href=https://colab.research.google.com/notebooks/data_table.ipynb>data table notebook</a>'\n",
              "            + ' to learn more about interactive tables.';\n",
              "          element.innerHTML = '';\n",
              "          dataTable['output_type'] = 'display_data';\n",
              "          await google.colab.output.renderOutput(dataTable, element);\n",
              "          const docLink = document.createElement('div');\n",
              "          docLink.innerHTML = docLinkHtml;\n",
              "          element.appendChild(docLink);\n",
              "        }\n",
              "      </script>\n",
              "    </div>\n",
              "  </div>\n",
              "  "
            ]
          },
          "metadata": {},
          "execution_count": 14
        }
      ]
    },
    {
      "cell_type": "code",
      "source": [
        "from sklearn.model_selection import train_test_split\n",
        "\n",
        "X_train, X_test, y_train, y_test = train_test_split(data.drop(columns = ['stroke']), data['stroke'], test_size=0.33)"
      ],
      "metadata": {
        "id": "Nj6J2nWU-ivL"
      },
      "execution_count": 15,
      "outputs": []
    },
    {
      "cell_type": "code",
      "source": [
        "X_train.head()"
      ],
      "metadata": {
        "colab": {
          "base_uri": "https://localhost:8080/",
          "height": 287
        },
        "id": "5tv6eTnh_QTX",
        "outputId": "c10e2eec-57e2-4313-b3fe-e5ea287ce716"
      },
      "execution_count": 16,
      "outputs": [
        {
          "output_type": "execute_result",
          "data": {
            "text/plain": [
              "       age  hypertension  heart_disease  avg_glucose_level   bmi  \\\n",
              "3901  11.0             0              0              88.79  21.3   \n",
              "3104  45.0             0              0              92.21  31.0   \n",
              "2698  46.0             0              0             111.78  39.4   \n",
              "4530  30.0             0              0              84.92  47.8   \n",
              "4629  23.0             0              0             132.88  24.9   \n",
              "\n",
              "      work_type_Govt_job  work_type_Private  work_type_Self-employed  \\\n",
              "3901                   0                  0                        0   \n",
              "3104                   0                  1                        0   \n",
              "2698                   0                  1                        0   \n",
              "4530                   0                  1                        0   \n",
              "4629                   0                  1                        0   \n",
              "\n",
              "      work_type_children  Residence_type_Rural  Residence_type_Urban  \\\n",
              "3901                   1                     0                     1   \n",
              "3104                   0                     1                     0   \n",
              "2698                   0                     1                     0   \n",
              "4530                   0                     0                     1   \n",
              "4629                   0                     0                     1   \n",
              "\n",
              "      smoking_status_Unknown  smoking_status_formerly smoked  \\\n",
              "3901                       0                               0   \n",
              "3104                       0                               0   \n",
              "2698                       0                               0   \n",
              "4530                       0                               0   \n",
              "4629                       0                               0   \n",
              "\n",
              "      smoking_status_never smoked  smoking_status_smokes  ever_married_Yes  \\\n",
              "3901                            1                      0                 0   \n",
              "3104                            1                      0                 1   \n",
              "2698                            0                      1                 1   \n",
              "4530                            1                      0                 1   \n",
              "4629                            1                      0                 0   \n",
              "\n",
              "      gender_Male  \n",
              "3901            0  \n",
              "3104            0  \n",
              "2698            1  \n",
              "4530            0  \n",
              "4629            0  "
            ],
            "text/html": [
              "\n",
              "  <div id=\"df-6d563793-a25e-4d8a-9cbb-0341ba4f7529\">\n",
              "    <div class=\"colab-df-container\">\n",
              "      <div>\n",
              "<style scoped>\n",
              "    .dataframe tbody tr th:only-of-type {\n",
              "        vertical-align: middle;\n",
              "    }\n",
              "\n",
              "    .dataframe tbody tr th {\n",
              "        vertical-align: top;\n",
              "    }\n",
              "\n",
              "    .dataframe thead th {\n",
              "        text-align: right;\n",
              "    }\n",
              "</style>\n",
              "<table border=\"1\" class=\"dataframe\">\n",
              "  <thead>\n",
              "    <tr style=\"text-align: right;\">\n",
              "      <th></th>\n",
              "      <th>age</th>\n",
              "      <th>hypertension</th>\n",
              "      <th>heart_disease</th>\n",
              "      <th>avg_glucose_level</th>\n",
              "      <th>bmi</th>\n",
              "      <th>work_type_Govt_job</th>\n",
              "      <th>work_type_Private</th>\n",
              "      <th>work_type_Self-employed</th>\n",
              "      <th>work_type_children</th>\n",
              "      <th>Residence_type_Rural</th>\n",
              "      <th>Residence_type_Urban</th>\n",
              "      <th>smoking_status_Unknown</th>\n",
              "      <th>smoking_status_formerly smoked</th>\n",
              "      <th>smoking_status_never smoked</th>\n",
              "      <th>smoking_status_smokes</th>\n",
              "      <th>ever_married_Yes</th>\n",
              "      <th>gender_Male</th>\n",
              "    </tr>\n",
              "  </thead>\n",
              "  <tbody>\n",
              "    <tr>\n",
              "      <th>3901</th>\n",
              "      <td>11.0</td>\n",
              "      <td>0</td>\n",
              "      <td>0</td>\n",
              "      <td>88.79</td>\n",
              "      <td>21.3</td>\n",
              "      <td>0</td>\n",
              "      <td>0</td>\n",
              "      <td>0</td>\n",
              "      <td>1</td>\n",
              "      <td>0</td>\n",
              "      <td>1</td>\n",
              "      <td>0</td>\n",
              "      <td>0</td>\n",
              "      <td>1</td>\n",
              "      <td>0</td>\n",
              "      <td>0</td>\n",
              "      <td>0</td>\n",
              "    </tr>\n",
              "    <tr>\n",
              "      <th>3104</th>\n",
              "      <td>45.0</td>\n",
              "      <td>0</td>\n",
              "      <td>0</td>\n",
              "      <td>92.21</td>\n",
              "      <td>31.0</td>\n",
              "      <td>0</td>\n",
              "      <td>1</td>\n",
              "      <td>0</td>\n",
              "      <td>0</td>\n",
              "      <td>1</td>\n",
              "      <td>0</td>\n",
              "      <td>0</td>\n",
              "      <td>0</td>\n",
              "      <td>1</td>\n",
              "      <td>0</td>\n",
              "      <td>1</td>\n",
              "      <td>0</td>\n",
              "    </tr>\n",
              "    <tr>\n",
              "      <th>2698</th>\n",
              "      <td>46.0</td>\n",
              "      <td>0</td>\n",
              "      <td>0</td>\n",
              "      <td>111.78</td>\n",
              "      <td>39.4</td>\n",
              "      <td>0</td>\n",
              "      <td>1</td>\n",
              "      <td>0</td>\n",
              "      <td>0</td>\n",
              "      <td>1</td>\n",
              "      <td>0</td>\n",
              "      <td>0</td>\n",
              "      <td>0</td>\n",
              "      <td>0</td>\n",
              "      <td>1</td>\n",
              "      <td>1</td>\n",
              "      <td>1</td>\n",
              "    </tr>\n",
              "    <tr>\n",
              "      <th>4530</th>\n",
              "      <td>30.0</td>\n",
              "      <td>0</td>\n",
              "      <td>0</td>\n",
              "      <td>84.92</td>\n",
              "      <td>47.8</td>\n",
              "      <td>0</td>\n",
              "      <td>1</td>\n",
              "      <td>0</td>\n",
              "      <td>0</td>\n",
              "      <td>0</td>\n",
              "      <td>1</td>\n",
              "      <td>0</td>\n",
              "      <td>0</td>\n",
              "      <td>1</td>\n",
              "      <td>0</td>\n",
              "      <td>1</td>\n",
              "      <td>0</td>\n",
              "    </tr>\n",
              "    <tr>\n",
              "      <th>4629</th>\n",
              "      <td>23.0</td>\n",
              "      <td>0</td>\n",
              "      <td>0</td>\n",
              "      <td>132.88</td>\n",
              "      <td>24.9</td>\n",
              "      <td>0</td>\n",
              "      <td>1</td>\n",
              "      <td>0</td>\n",
              "      <td>0</td>\n",
              "      <td>0</td>\n",
              "      <td>1</td>\n",
              "      <td>0</td>\n",
              "      <td>0</td>\n",
              "      <td>1</td>\n",
              "      <td>0</td>\n",
              "      <td>0</td>\n",
              "      <td>0</td>\n",
              "    </tr>\n",
              "  </tbody>\n",
              "</table>\n",
              "</div>\n",
              "      <button class=\"colab-df-convert\" onclick=\"convertToInteractive('df-6d563793-a25e-4d8a-9cbb-0341ba4f7529')\"\n",
              "              title=\"Convert this dataframe to an interactive table.\"\n",
              "              style=\"display:none;\">\n",
              "        \n",
              "  <svg xmlns=\"http://www.w3.org/2000/svg\" height=\"24px\"viewBox=\"0 0 24 24\"\n",
              "       width=\"24px\">\n",
              "    <path d=\"M0 0h24v24H0V0z\" fill=\"none\"/>\n",
              "    <path d=\"M18.56 5.44l.94 2.06.94-2.06 2.06-.94-2.06-.94-.94-2.06-.94 2.06-2.06.94zm-11 1L8.5 8.5l.94-2.06 2.06-.94-2.06-.94L8.5 2.5l-.94 2.06-2.06.94zm10 10l.94 2.06.94-2.06 2.06-.94-2.06-.94-.94-2.06-.94 2.06-2.06.94z\"/><path d=\"M17.41 7.96l-1.37-1.37c-.4-.4-.92-.59-1.43-.59-.52 0-1.04.2-1.43.59L10.3 9.45l-7.72 7.72c-.78.78-.78 2.05 0 2.83L4 21.41c.39.39.9.59 1.41.59.51 0 1.02-.2 1.41-.59l7.78-7.78 2.81-2.81c.8-.78.8-2.07 0-2.86zM5.41 20L4 18.59l7.72-7.72 1.47 1.35L5.41 20z\"/>\n",
              "  </svg>\n",
              "      </button>\n",
              "      \n",
              "  <style>\n",
              "    .colab-df-container {\n",
              "      display:flex;\n",
              "      flex-wrap:wrap;\n",
              "      gap: 12px;\n",
              "    }\n",
              "\n",
              "    .colab-df-convert {\n",
              "      background-color: #E8F0FE;\n",
              "      border: none;\n",
              "      border-radius: 50%;\n",
              "      cursor: pointer;\n",
              "      display: none;\n",
              "      fill: #1967D2;\n",
              "      height: 32px;\n",
              "      padding: 0 0 0 0;\n",
              "      width: 32px;\n",
              "    }\n",
              "\n",
              "    .colab-df-convert:hover {\n",
              "      background-color: #E2EBFA;\n",
              "      box-shadow: 0px 1px 2px rgba(60, 64, 67, 0.3), 0px 1px 3px 1px rgba(60, 64, 67, 0.15);\n",
              "      fill: #174EA6;\n",
              "    }\n",
              "\n",
              "    [theme=dark] .colab-df-convert {\n",
              "      background-color: #3B4455;\n",
              "      fill: #D2E3FC;\n",
              "    }\n",
              "\n",
              "    [theme=dark] .colab-df-convert:hover {\n",
              "      background-color: #434B5C;\n",
              "      box-shadow: 0px 1px 3px 1px rgba(0, 0, 0, 0.15);\n",
              "      filter: drop-shadow(0px 1px 2px rgba(0, 0, 0, 0.3));\n",
              "      fill: #FFFFFF;\n",
              "    }\n",
              "  </style>\n",
              "\n",
              "      <script>\n",
              "        const buttonEl =\n",
              "          document.querySelector('#df-6d563793-a25e-4d8a-9cbb-0341ba4f7529 button.colab-df-convert');\n",
              "        buttonEl.style.display =\n",
              "          google.colab.kernel.accessAllowed ? 'block' : 'none';\n",
              "\n",
              "        async function convertToInteractive(key) {\n",
              "          const element = document.querySelector('#df-6d563793-a25e-4d8a-9cbb-0341ba4f7529');\n",
              "          const dataTable =\n",
              "            await google.colab.kernel.invokeFunction('convertToInteractive',\n",
              "                                                     [key], {});\n",
              "          if (!dataTable) return;\n",
              "\n",
              "          const docLinkHtml = 'Like what you see? Visit the ' +\n",
              "            '<a target=\"_blank\" href=https://colab.research.google.com/notebooks/data_table.ipynb>data table notebook</a>'\n",
              "            + ' to learn more about interactive tables.';\n",
              "          element.innerHTML = '';\n",
              "          dataTable['output_type'] = 'display_data';\n",
              "          await google.colab.output.renderOutput(dataTable, element);\n",
              "          const docLink = document.createElement('div');\n",
              "          docLink.innerHTML = docLinkHtml;\n",
              "          element.appendChild(docLink);\n",
              "        }\n",
              "      </script>\n",
              "    </div>\n",
              "  </div>\n",
              "  "
            ]
          },
          "metadata": {},
          "execution_count": 16
        }
      ]
    },
    {
      "cell_type": "code",
      "source": [
        "from sklearn.preprocessing import StandardScaler\n",
        "# changes mean to 0 and variance to 1 across all data\n",
        "scaler =StandardScaler()\n",
        "X_train = scaler.fit_transform(X_train)\n",
        "X_test = scaler.transform(X_test)"
      ],
      "metadata": {
        "id": "O-DrQseXAB94"
      },
      "execution_count": 17,
      "outputs": []
    },
    {
      "cell_type": "code",
      "source": [
        "X_train"
      ],
      "metadata": {
        "colab": {
          "base_uri": "https://localhost:8080/"
        },
        "id": "GJns4zBSzx01",
        "outputId": "9a2ea7ef-569a-4fe2-88f7-5b7f2280b719"
      },
      "execution_count": 18,
      "outputs": [
        {
          "output_type": "execute_result",
          "data": {
            "text/plain": [
              "array([[-1.40976819, -0.32285539, -0.24433889, ..., -0.42719397,\n",
              "        -1.36632298, -0.84806656],\n",
              "       [ 0.08773412, -0.32285539, -0.24433889, ..., -0.42719397,\n",
              "         0.73189137, -0.84806656],\n",
              "       [ 0.1317783 , -0.32285539, -0.24433889, ...,  2.34085703,\n",
              "         0.73189137,  1.17915272],\n",
              "       ...,\n",
              "       [-1.54190075, -0.32285539, -0.24433889, ..., -0.42719397,\n",
              "        -1.36632298, -0.84806656],\n",
              "       [ 0.92457364,  3.09736191, -0.24433889, ..., -0.42719397,\n",
              "         0.73189137, -0.84806656],\n",
              "       [ 0.21986667, -0.32285539, -0.24433889, ..., -0.42719397,\n",
              "         0.73189137,  1.17915272]])"
            ]
          },
          "metadata": {},
          "execution_count": 18
        }
      ]
    },
    {
      "cell_type": "code",
      "source": [
        "from sklearn.linear_model import LogisticRegression\n",
        "\n",
        "model = LogisticRegression() \n",
        "ab = model.fit(X_train, y_train)"
      ],
      "metadata": {
        "id": "CtG5Ob5W0FAM"
      },
      "execution_count": 19,
      "outputs": []
    },
    {
      "cell_type": "code",
      "source": [
        "model.score(X_train, y_train)\n",
        "model.score(X_test, y_test)"
      ],
      "metadata": {
        "colab": {
          "base_uri": "https://localhost:8080/"
        },
        "id": "R94z3Zi80E91",
        "outputId": "19864b77-8ea8-4978-e9fd-8c9d1b2d8cb2"
      },
      "execution_count": 20,
      "outputs": [
        {
          "output_type": "execute_result",
          "data": {
            "text/plain": [
              "0.9458637469586375"
            ]
          },
          "metadata": {},
          "execution_count": 20
        }
      ]
    },
    {
      "cell_type": "code",
      "source": [
        "from sklearn.metrics import confusion_matrix, classification_report\n",
        "predictions = model.predict(X_test)"
      ],
      "metadata": {
        "id": "yqzlNrPE0y1W"
      },
      "execution_count": 21,
      "outputs": []
    },
    {
      "cell_type": "code",
      "source": [
        "print(classification_report(y_train, model.predict(X_train)))"
      ],
      "metadata": {
        "colab": {
          "base_uri": "https://localhost:8080/"
        },
        "id": "wZOPj-Sc1WSO",
        "outputId": "1bfe58d4-a6b1-4fd7-9631-bf2c6a23beaa"
      },
      "execution_count": 22,
      "outputs": [
        {
          "output_type": "stream",
          "name": "stdout",
          "text": [
            "              precision    recall  f1-score   support\n",
            "\n",
            "           0       0.95      1.00      0.98      3178\n",
            "           1       1.00      0.01      0.01       159\n",
            "\n",
            "    accuracy                           0.95      3337\n",
            "   macro avg       0.98      0.50      0.49      3337\n",
            "weighted avg       0.95      0.95      0.93      3337\n",
            "\n"
          ]
        }
      ]
    },
    {
      "cell_type": "code",
      "source": [
        "print(classification_report(y_test, predictions))"
      ],
      "metadata": {
        "colab": {
          "base_uri": "https://localhost:8080/"
        },
        "id": "sf0cqxJD0Eml",
        "outputId": "006827cd-6c67-407a-e6dc-ec84b8d5779b"
      },
      "execution_count": 23,
      "outputs": [
        {
          "output_type": "stream",
          "name": "stdout",
          "text": [
            "              precision    recall  f1-score   support\n",
            "\n",
            "           0       0.95      1.00      0.97      1555\n",
            "           1       0.00      0.00      0.00        89\n",
            "\n",
            "    accuracy                           0.95      1644\n",
            "   macro avg       0.47      0.50      0.49      1644\n",
            "weighted avg       0.89      0.95      0.92      1644\n",
            "\n"
          ]
        },
        {
          "output_type": "stream",
          "name": "stderr",
          "text": [
            "/usr/local/lib/python3.8/dist-packages/sklearn/metrics/_classification.py:1318: UndefinedMetricWarning: Precision and F-score are ill-defined and being set to 0.0 in labels with no predicted samples. Use `zero_division` parameter to control this behavior.\n",
            "  _warn_prf(average, modifier, msg_start, len(result))\n",
            "/usr/local/lib/python3.8/dist-packages/sklearn/metrics/_classification.py:1318: UndefinedMetricWarning: Precision and F-score are ill-defined and being set to 0.0 in labels with no predicted samples. Use `zero_division` parameter to control this behavior.\n",
            "  _warn_prf(average, modifier, msg_start, len(result))\n",
            "/usr/local/lib/python3.8/dist-packages/sklearn/metrics/_classification.py:1318: UndefinedMetricWarning: Precision and F-score are ill-defined and being set to 0.0 in labels with no predicted samples. Use `zero_division` parameter to control this behavior.\n",
            "  _warn_prf(average, modifier, msg_start, len(result))\n"
          ]
        }
      ]
    },
    {
      "cell_type": "code",
      "source": [
        "from imblearn.over_sampling import SMOTE\n",
        "sm = SMOTE(random_state = 2)\n",
        "X_train_res, y_train_res = sm.fit_resample(X_train, y_train.ravel())"
      ],
      "metadata": {
        "id": "f7ay0J1b1muL"
      },
      "execution_count": 24,
      "outputs": []
    },
    {
      "cell_type": "code",
      "source": [
        "print(\"After OverSampling, counts of label '1': {}\".format(sum(y_train_res == 1)))\n",
        "print(\"After OverSampling, counts of label '0': {}\".format(sum(y_train_res == 0)))"
      ],
      "metadata": {
        "colab": {
          "base_uri": "https://localhost:8080/"
        },
        "id": "6DNDN_yJ1mp0",
        "outputId": "042aa185-5370-4b57-e0c8-f17589cc26f6"
      },
      "execution_count": 25,
      "outputs": [
        {
          "output_type": "stream",
          "name": "stdout",
          "text": [
            "After OverSampling, counts of label '1': 3178\n",
            "After OverSampling, counts of label '0': 3178\n"
          ]
        }
      ]
    },
    {
      "cell_type": "code",
      "source": [
        "lr1 = LogisticRegression()\n",
        "lr1.fit(X_train_res, y_train_res.ravel())\n",
        "predictions = lr1.predict(X_test)\n",
        "  \n",
        "# print classification report\n",
        "print(classification_report(y_test, predictions))"
      ],
      "metadata": {
        "colab": {
          "base_uri": "https://localhost:8080/"
        },
        "id": "gknP8V8W1mnG",
        "outputId": "4d297e87-7d0b-465a-e5d3-194d069a738c"
      },
      "execution_count": 26,
      "outputs": [
        {
          "output_type": "stream",
          "name": "stdout",
          "text": [
            "              precision    recall  f1-score   support\n",
            "\n",
            "           0       0.99      0.73      0.84      1555\n",
            "           1       0.14      0.81      0.25        89\n",
            "\n",
            "    accuracy                           0.73      1644\n",
            "   macro avg       0.56      0.77      0.54      1644\n",
            "weighted avg       0.94      0.73      0.80      1644\n",
            "\n"
          ]
        }
      ]
    },
    {
      "cell_type": "code",
      "source": [
        "lr1.score(X_test,y_test)"
      ],
      "metadata": {
        "colab": {
          "base_uri": "https://localhost:8080/"
        },
        "id": "yvpuSc5B1l5J",
        "outputId": "20e6593f-8342-4c77-9bde-c7891fa33c74"
      },
      "execution_count": 27,
      "outputs": [
        {
          "output_type": "execute_result",
          "data": {
            "text/plain": [
              "0.7305352798053528"
            ]
          },
          "metadata": {},
          "execution_count": 27
        }
      ]
    },
    {
      "cell_type": "code",
      "source": [
        "from imblearn.under_sampling import NearMiss\n",
        "nr = NearMiss()\n",
        "  \n",
        "X_train_miss, y_train_miss = nr.fit_resample(X_train, y_train.ravel())"
      ],
      "metadata": {
        "id": "sB2BOV-G2Ozc"
      },
      "execution_count": 28,
      "outputs": []
    },
    {
      "cell_type": "code",
      "source": [
        "print(\"After Undersampling, counts of label '1': {}\".format(sum(y_train_miss == 1)))\n",
        "print(\"After Undersampling, counts of label '0': {}\".format(sum(y_train_miss == 0)))"
      ],
      "metadata": {
        "colab": {
          "base_uri": "https://localhost:8080/"
        },
        "id": "p5SBHK2d2Ots",
        "outputId": "44757e43-1eb2-46be-8b8b-2035fe8fdeb6"
      },
      "execution_count": 29,
      "outputs": [
        {
          "output_type": "stream",
          "name": "stdout",
          "text": [
            "After Undersampling, counts of label '1': 159\n",
            "After Undersampling, counts of label '0': 159\n"
          ]
        }
      ]
    },
    {
      "cell_type": "code",
      "source": [
        "lr2 = LogisticRegression()\n",
        "lr2.fit(X_train_miss, y_train_miss.ravel())\n",
        "predictions = lr2.predict(X_test)\n",
        "  \n",
        "# print classification report\n",
        "print(classification_report(y_test, predictions))"
      ],
      "metadata": {
        "colab": {
          "base_uri": "https://localhost:8080/"
        },
        "id": "gHoBH-Nu2OrO",
        "outputId": "ab8cc8cc-c019-49dc-c819-6d8e043b4607"
      },
      "execution_count": 30,
      "outputs": [
        {
          "output_type": "stream",
          "name": "stdout",
          "text": [
            "              precision    recall  f1-score   support\n",
            "\n",
            "           0       0.96      0.40      0.57      1555\n",
            "           1       0.06      0.67      0.11        89\n",
            "\n",
            "    accuracy                           0.42      1644\n",
            "   macro avg       0.51      0.54      0.34      1644\n",
            "weighted avg       0.91      0.42      0.54      1644\n",
            "\n"
          ]
        }
      ]
    },
    {
      "cell_type": "code",
      "source": [
        "#retraining the smote data on lr2 where the acc for '1' is high\n",
        "lr2.fit(X_train_res, y_train_res.ravel())"
      ],
      "metadata": {
        "id": "SOOEHQde0Db9",
        "colab": {
          "base_uri": "https://localhost:8080/"
        },
        "outputId": "f9b66688-7332-420e-b3cd-d4877ca9ba5c"
      },
      "execution_count": 31,
      "outputs": [
        {
          "output_type": "execute_result",
          "data": {
            "text/plain": [
              "LogisticRegression()"
            ]
          },
          "metadata": {},
          "execution_count": 31
        }
      ]
    },
    {
      "cell_type": "code",
      "source": [
        "predictions = lr2.predict(X_test)\n",
        "print(classification_report(y_test, predictions))"
      ],
      "metadata": {
        "colab": {
          "base_uri": "https://localhost:8080/"
        },
        "id": "xJdOQiXM-QXb",
        "outputId": "7657b233-eb13-4f0b-b502-b46751a52366"
      },
      "execution_count": 32,
      "outputs": [
        {
          "output_type": "stream",
          "name": "stdout",
          "text": [
            "              precision    recall  f1-score   support\n",
            "\n",
            "           0       0.99      0.73      0.84      1555\n",
            "           1       0.14      0.81      0.25        89\n",
            "\n",
            "    accuracy                           0.73      1644\n",
            "   macro avg       0.56      0.77      0.54      1644\n",
            "weighted avg       0.94      0.73      0.80      1644\n",
            "\n"
          ]
        }
      ]
    },
    {
      "cell_type": "code",
      "source": [
        "# get a different graph !!!\n",
        "\n",
        "import matplotlib.pyplot as plt\n",
        "\n",
        "plt.scatter(y_test, predictions)\n",
        "\n",
        "x = [0, 1]\n",
        "y = [0, 1]\n",
        "plt.plot(x, y, color='red')\n",
        "\n",
        "plt.xlabel('Actual')\n",
        "plt.ylabel('Predicted')\n",
        "plt.title('Actual vs Predicted')\n",
        "\n",
        "plt.show()"
      ],
      "metadata": {
        "colab": {
          "base_uri": "https://localhost:8080/",
          "height": 295
        },
        "id": "AH11Ac9r-m48",
        "outputId": "9e77a443-56b3-4546-91a4-90379dc1c785"
      },
      "execution_count": 33,
      "outputs": [
        {
          "output_type": "display_data",
          "data": {
            "text/plain": [
              "<Figure size 432x288 with 1 Axes>"
            ],
            "image/png": "[encoded data removed]"
          },
          "metadata": {
            "needs_background": "light"
          }
        }
      ]
    },
    {
      "cell_type": "code",
      "source": [],
      "metadata": {
        "id": "ycEYB7nA-m1j"
      },
      "execution_count": 33,
      "outputs": []
    },
    {
      "cell_type": "code",
      "source": [
        "import tensorflow as tf"
      ],
      "metadata": {
        "id": "q0cAPNizAS6v"
      },
      "execution_count": 34,
      "outputs": []
    },
    {
      "cell_type": "code",
      "source": [
        "N, D = X_train.shape"
      ],
      "metadata": {
        "id": "DIlhXZ_VAgOW"
      },
      "execution_count": 35,
      "outputs": []
    },
    {
      "cell_type": "code",
      "source": [
        "#logistic regression\n",
        "model = tf.keras.models.Sequential([\n",
        "    tf.keras.layers.Input(shape=(D,)),\n",
        "    tf.keras.layers.Dense(1, activation='sigmoid')\n",
        "])"
      ],
      "metadata": {
        "id": "jjvgFmcSAWaZ"
      },
      "execution_count": 36,
      "outputs": []
    },
    {
      "cell_type": "code",
      "source": [
        "model.compile(optimizer='adam',\n",
        "              loss='binary_crossentropy',\n",
        "              metrics=['accuracy'])"
      ],
      "metadata": {
        "id": "gKugpLhAAiWY"
      },
      "execution_count": 37,
      "outputs": []
    },
    {
      "cell_type": "code",
      "source": [
        "r = model.fit(X_train, y_train, validation_data=(X_test,y_test), epochs=100)"
      ],
      "metadata": {
        "colab": {
          "base_uri": "https://localhost:8080/"
        },
        "id": "F7HDB9xLAkyw",
        "outputId": "356fae92-bf39-471d-ff9f-95df84359055"
      },
      "execution_count": 38,
      "outputs": [
        {
          "output_type": "stream",
          "name": "stdout",
          "text": [
            "Epoch 1/100\n",
            "105/105 [==============================] - 1s 4ms/step - loss: 0.7529 - accuracy: 0.5859 - val_loss: 0.6955 - val_accuracy: 0.5870\n",
            "Epoch 2/100\n",
            "105/105 [==============================] - 0s 3ms/step - loss: 0.6664 - accuracy: 0.6104 - val_loss: 0.6306 - val_accuracy: 0.6247\n",
            "Epoch 3/100\n",
            "105/105 [==============================] - 0s 2ms/step - loss: 0.6069 - accuracy: 0.6656 - val_loss: 0.5830 - val_accuracy: 0.6916\n",
            "Epoch 4/100\n",
            "105/105 [==============================] - 0s 3ms/step - loss: 0.5613 - accuracy: 0.7438 - val_loss: 0.5435 - val_accuracy: 0.7865\n",
            "Epoch 5/100\n",
            "105/105 [==============================] - 0s 2ms/step - loss: 0.5228 - accuracy: 0.8130 - val_loss: 0.5088 - val_accuracy: 0.8443\n",
            "Epoch 6/100\n",
            "105/105 [==============================] - 0s 2ms/step - loss: 0.4891 - accuracy: 0.8523 - val_loss: 0.4777 - val_accuracy: 0.8838\n",
            "Epoch 7/100\n",
            "105/105 [==============================] - 0s 3ms/step - loss: 0.4592 - accuracy: 0.8888 - val_loss: 0.4498 - val_accuracy: 0.9112\n",
            "Epoch 8/100\n",
            "105/105 [==============================] - 0s 2ms/step - loss: 0.4321 - accuracy: 0.9182 - val_loss: 0.4247 - val_accuracy: 0.9270\n",
            "Epoch 9/100\n",
            "105/105 [==============================] - 0s 2ms/step - loss: 0.4080 - accuracy: 0.9362 - val_loss: 0.4021 - val_accuracy: 0.9331\n",
            "Epoch 10/100\n",
            "105/105 [==============================] - 0s 2ms/step - loss: 0.3860 - accuracy: 0.9455 - val_loss: 0.3815 - val_accuracy: 0.9422\n",
            "Epoch 11/100\n",
            "105/105 [==============================] - 0s 2ms/step - loss: 0.3663 - accuracy: 0.9482 - val_loss: 0.3629 - val_accuracy: 0.9465\n",
            "Epoch 12/100\n",
            "105/105 [==============================] - 0s 2ms/step - loss: 0.3483 - accuracy: 0.9518 - val_loss: 0.3461 - val_accuracy: 0.9471\n",
            "Epoch 13/100\n",
            "105/105 [==============================] - 0s 2ms/step - loss: 0.3321 - accuracy: 0.9521 - val_loss: 0.3309 - val_accuracy: 0.9465\n",
            "Epoch 14/100\n",
            "105/105 [==============================] - 0s 3ms/step - loss: 0.3174 - accuracy: 0.9527 - val_loss: 0.3174 - val_accuracy: 0.9465\n",
            "Epoch 15/100\n",
            "105/105 [==============================] - 0s 4ms/step - loss: 0.3040 - accuracy: 0.9524 - val_loss: 0.3049 - val_accuracy: 0.9465\n",
            "Epoch 16/100\n",
            "105/105 [==============================] - 0s 4ms/step - loss: 0.2917 - accuracy: 0.9521 - val_loss: 0.2935 - val_accuracy: 0.9459\n",
            "Epoch 17/100\n",
            "105/105 [==============================] - 1s 7ms/step - loss: 0.2806 - accuracy: 0.9521 - val_loss: 0.2832 - val_accuracy: 0.9459\n",
            "Epoch 18/100\n",
            "105/105 [==============================] - 1s 5ms/step - loss: 0.2705 - accuracy: 0.9524 - val_loss: 0.2737 - val_accuracy: 0.9459\n",
            "Epoch 19/100\n",
            "105/105 [==============================] - 1s 5ms/step - loss: 0.2612 - accuracy: 0.9524 - val_loss: 0.2652 - val_accuracy: 0.9459\n",
            "Epoch 20/100\n",
            "105/105 [==============================] - 1s 6ms/step - loss: 0.2528 - accuracy: 0.9524 - val_loss: 0.2574 - val_accuracy: 0.9459\n",
            "Epoch 21/100\n",
            "105/105 [==============================] - 1s 5ms/step - loss: 0.2451 - accuracy: 0.9524 - val_loss: 0.2502 - val_accuracy: 0.9459\n",
            "Epoch 22/100\n",
            "105/105 [==============================] - 0s 4ms/step - loss: 0.2380 - accuracy: 0.9524 - val_loss: 0.2438 - val_accuracy: 0.9459\n",
            "Epoch 23/100\n",
            "105/105 [==============================] - 0s 4ms/step - loss: 0.2316 - accuracy: 0.9524 - val_loss: 0.2379 - val_accuracy: 0.9459\n",
            "Epoch 24/100\n",
            "105/105 [==============================] - 0s 4ms/step - loss: 0.2256 - accuracy: 0.9524 - val_loss: 0.2326 - val_accuracy: 0.9459\n",
            "Epoch 25/100\n",
            "105/105 [==============================] - 1s 5ms/step - loss: 0.2202 - accuracy: 0.9524 - val_loss: 0.2276 - val_accuracy: 0.9459\n",
            "Epoch 26/100\n",
            "105/105 [==============================] - 1s 6ms/step - loss: 0.2151 - accuracy: 0.9524 - val_loss: 0.2231 - val_accuracy: 0.9459\n",
            "Epoch 27/100\n",
            "105/105 [==============================] - 1s 5ms/step - loss: 0.2105 - accuracy: 0.9524 - val_loss: 0.2189 - val_accuracy: 0.9459\n",
            "Epoch 28/100\n",
            "105/105 [==============================] - 1s 5ms/step - loss: 0.2063 - accuracy: 0.9524 - val_loss: 0.2151 - val_accuracy: 0.9459\n",
            "Epoch 29/100\n",
            "105/105 [==============================] - 1s 5ms/step - loss: 0.2024 - accuracy: 0.9524 - val_loss: 0.2116 - val_accuracy: 0.9459\n",
            "Epoch 30/100\n",
            "105/105 [==============================] - 1s 6ms/step - loss: 0.1988 - accuracy: 0.9524 - val_loss: 0.2084 - val_accuracy: 0.9459\n",
            "Epoch 31/100\n",
            "105/105 [==============================] - 0s 5ms/step - loss: 0.1955 - accuracy: 0.9524 - val_loss: 0.2054 - val_accuracy: 0.9459\n",
            "Epoch 32/100\n",
            "105/105 [==============================] - 1s 5ms/step - loss: 0.1925 - accuracy: 0.9524 - val_loss: 0.2027 - val_accuracy: 0.9459\n",
            "Epoch 33/100\n",
            "105/105 [==============================] - 0s 4ms/step - loss: 0.1896 - accuracy: 0.9524 - val_loss: 0.2002 - val_accuracy: 0.9459\n",
            "Epoch 34/100\n",
            "105/105 [==============================] - 0s 5ms/step - loss: 0.1870 - accuracy: 0.9524 - val_loss: 0.1979 - val_accuracy: 0.9459\n",
            "Epoch 35/100\n",
            "105/105 [==============================] - 1s 7ms/step - loss: 0.1847 - accuracy: 0.9524 - val_loss: 0.1958 - val_accuracy: 0.9459\n",
            "Epoch 36/100\n",
            "105/105 [==============================] - 1s 6ms/step - loss: 0.1825 - accuracy: 0.9524 - val_loss: 0.1938 - val_accuracy: 0.9459\n",
            "Epoch 37/100\n",
            "105/105 [==============================] - 1s 5ms/step - loss: 0.1804 - accuracy: 0.9524 - val_loss: 0.1920 - val_accuracy: 0.9459\n",
            "Epoch 38/100\n",
            "105/105 [==============================] - 1s 7ms/step - loss: 0.1785 - accuracy: 0.9524 - val_loss: 0.1903 - val_accuracy: 0.9459\n",
            "Epoch 39/100\n",
            "105/105 [==============================] - 1s 6ms/step - loss: 0.1767 - accuracy: 0.9524 - val_loss: 0.1888 - val_accuracy: 0.9459\n",
            "Epoch 40/100\n",
            "105/105 [==============================] - 1s 5ms/step - loss: 0.1751 - accuracy: 0.9524 - val_loss: 0.1873 - val_accuracy: 0.9459\n",
            "Epoch 41/100\n",
            "105/105 [==============================] - 1s 6ms/step - loss: 0.1736 - accuracy: 0.9524 - val_loss: 0.1860 - val_accuracy: 0.9459\n",
            "Epoch 42/100\n",
            "105/105 [==============================] - 1s 8ms/step - loss: 0.1723 - accuracy: 0.9524 - val_loss: 0.1847 - val_accuracy: 0.9459\n",
            "Epoch 43/100\n",
            "105/105 [==============================] - 1s 7ms/step - loss: 0.1710 - accuracy: 0.9524 - val_loss: 0.1836 - val_accuracy: 0.9459\n",
            "Epoch 44/100\n",
            "105/105 [==============================] - 1s 5ms/step - loss: 0.1698 - accuracy: 0.9524 - val_loss: 0.1826 - val_accuracy: 0.9459\n",
            "Epoch 45/100\n",
            "105/105 [==============================] - 1s 6ms/step - loss: 0.1687 - accuracy: 0.9524 - val_loss: 0.1817 - val_accuracy: 0.9459\n",
            "Epoch 46/100\n",
            "105/105 [==============================] - 1s 7ms/step - loss: 0.1677 - accuracy: 0.9524 - val_loss: 0.1808 - val_accuracy: 0.9459\n",
            "Epoch 47/100\n",
            "105/105 [==============================] - 1s 6ms/step - loss: 0.1668 - accuracy: 0.9524 - val_loss: 0.1800 - val_accuracy: 0.9459\n",
            "Epoch 48/100\n",
            "105/105 [==============================] - 1s 7ms/step - loss: 0.1659 - accuracy: 0.9524 - val_loss: 0.1793 - val_accuracy: 0.9459\n",
            "Epoch 49/100\n",
            "105/105 [==============================] - 0s 4ms/step - loss: 0.1651 - accuracy: 0.9524 - val_loss: 0.1785 - val_accuracy: 0.9459\n",
            "Epoch 50/100\n",
            "105/105 [==============================] - 1s 6ms/step - loss: 0.1644 - accuracy: 0.9524 - val_loss: 0.1778 - val_accuracy: 0.9459\n",
            "Epoch 51/100\n",
            "105/105 [==============================] - 1s 7ms/step - loss: 0.1637 - accuracy: 0.9524 - val_loss: 0.1772 - val_accuracy: 0.9459\n",
            "Epoch 52/100\n",
            "105/105 [==============================] - 0s 4ms/step - loss: 0.1632 - accuracy: 0.9524 - val_loss: 0.1766 - val_accuracy: 0.9459\n",
            "Epoch 53/100\n",
            "105/105 [==============================] - 1s 5ms/step - loss: 0.1625 - accuracy: 0.9524 - val_loss: 0.1761 - val_accuracy: 0.9459\n",
            "Epoch 54/100\n",
            "105/105 [==============================] - 0s 5ms/step - loss: 0.1620 - accuracy: 0.9524 - val_loss: 0.1757 - val_accuracy: 0.9459\n",
            "Epoch 55/100\n",
            "105/105 [==============================] - 1s 5ms/step - loss: 0.1614 - accuracy: 0.9524 - val_loss: 0.1753 - val_accuracy: 0.9459\n",
            "Epoch 56/100\n",
            "105/105 [==============================] - 0s 4ms/step - loss: 0.1610 - accuracy: 0.9524 - val_loss: 0.1748 - val_accuracy: 0.9459\n",
            "Epoch 57/100\n",
            "105/105 [==============================] - 1s 6ms/step - loss: 0.1606 - accuracy: 0.9524 - val_loss: 0.1745 - val_accuracy: 0.9459\n",
            "Epoch 58/100\n",
            "105/105 [==============================] - 1s 5ms/step - loss: 0.1602 - accuracy: 0.9524 - val_loss: 0.1740 - val_accuracy: 0.9459\n",
            "Epoch 59/100\n",
            "105/105 [==============================] - 0s 4ms/step - loss: 0.1598 - accuracy: 0.9524 - val_loss: 0.1737 - val_accuracy: 0.9459\n",
            "Epoch 60/100\n",
            "105/105 [==============================] - 1s 5ms/step - loss: 0.1595 - accuracy: 0.9524 - val_loss: 0.1733 - val_accuracy: 0.9459\n",
            "Epoch 61/100\n",
            "105/105 [==============================] - 0s 2ms/step - loss: 0.1591 - accuracy: 0.9527 - val_loss: 0.1731 - val_accuracy: 0.9459\n",
            "Epoch 62/100\n",
            "105/105 [==============================] - 0s 2ms/step - loss: 0.1589 - accuracy: 0.9527 - val_loss: 0.1729 - val_accuracy: 0.9459\n",
            "Epoch 63/100\n",
            "105/105 [==============================] - 0s 2ms/step - loss: 0.1586 - accuracy: 0.9527 - val_loss: 0.1725 - val_accuracy: 0.9459\n",
            "Epoch 64/100\n",
            "105/105 [==============================] - 0s 2ms/step - loss: 0.1584 - accuracy: 0.9524 - val_loss: 0.1723 - val_accuracy: 0.9459\n",
            "Epoch 65/100\n",
            "105/105 [==============================] - 0s 3ms/step - loss: 0.1581 - accuracy: 0.9527 - val_loss: 0.1720 - val_accuracy: 0.9459\n",
            "Epoch 66/100\n",
            "105/105 [==============================] - 0s 2ms/step - loss: 0.1578 - accuracy: 0.9527 - val_loss: 0.1718 - val_accuracy: 0.9459\n",
            "Epoch 67/100\n",
            "105/105 [==============================] - 0s 2ms/step - loss: 0.1576 - accuracy: 0.9527 - val_loss: 0.1716 - val_accuracy: 0.9459\n",
            "Epoch 68/100\n",
            "105/105 [==============================] - 0s 2ms/step - loss: 0.1575 - accuracy: 0.9527 - val_loss: 0.1713 - val_accuracy: 0.9459\n",
            "Epoch 69/100\n",
            "105/105 [==============================] - 0s 2ms/step - loss: 0.1572 - accuracy: 0.9527 - val_loss: 0.1712 - val_accuracy: 0.9459\n",
            "Epoch 70/100\n",
            "105/105 [==============================] - 0s 2ms/step - loss: 0.1571 - accuracy: 0.9527 - val_loss: 0.1710 - val_accuracy: 0.9459\n",
            "Epoch 71/100\n",
            "105/105 [==============================] - 0s 2ms/step - loss: 0.1569 - accuracy: 0.9527 - val_loss: 0.1708 - val_accuracy: 0.9459\n",
            "Epoch 72/100\n",
            "105/105 [==============================] - 0s 2ms/step - loss: 0.1568 - accuracy: 0.9527 - val_loss: 0.1706 - val_accuracy: 0.9459\n",
            "Epoch 73/100\n",
            "105/105 [==============================] - 0s 2ms/step - loss: 0.1566 - accuracy: 0.9527 - val_loss: 0.1705 - val_accuracy: 0.9459\n",
            "Epoch 74/100\n",
            "105/105 [==============================] - 0s 2ms/step - loss: 0.1565 - accuracy: 0.9527 - val_loss: 0.1703 - val_accuracy: 0.9459\n",
            "Epoch 75/100\n",
            "105/105 [==============================] - 0s 2ms/step - loss: 0.1564 - accuracy: 0.9527 - val_loss: 0.1702 - val_accuracy: 0.9459\n",
            "Epoch 76/100\n",
            "105/105 [==============================] - 0s 2ms/step - loss: 0.1563 - accuracy: 0.9527 - val_loss: 0.1700 - val_accuracy: 0.9459\n",
            "Epoch 77/100\n",
            "105/105 [==============================] - 0s 3ms/step - loss: 0.1561 - accuracy: 0.9527 - val_loss: 0.1699 - val_accuracy: 0.9459\n",
            "Epoch 78/100\n",
            "105/105 [==============================] - 0s 2ms/step - loss: 0.1561 - accuracy: 0.9527 - val_loss: 0.1698 - val_accuracy: 0.9459\n",
            "Epoch 79/100\n",
            "105/105 [==============================] - 0s 2ms/step - loss: 0.1560 - accuracy: 0.9527 - val_loss: 0.1696 - val_accuracy: 0.9459\n",
            "Epoch 80/100\n",
            "105/105 [==============================] - 0s 2ms/step - loss: 0.1559 - accuracy: 0.9527 - val_loss: 0.1696 - val_accuracy: 0.9459\n",
            "Epoch 81/100\n",
            "105/105 [==============================] - 0s 2ms/step - loss: 0.1559 - accuracy: 0.9527 - val_loss: 0.1694 - val_accuracy: 0.9459\n",
            "Epoch 82/100\n",
            "105/105 [==============================] - 0s 2ms/step - loss: 0.1557 - accuracy: 0.9527 - val_loss: 0.1693 - val_accuracy: 0.9459\n",
            "Epoch 83/100\n",
            "105/105 [==============================] - 0s 2ms/step - loss: 0.1557 - accuracy: 0.9527 - val_loss: 0.1693 - val_accuracy: 0.9459\n",
            "Epoch 84/100\n",
            "105/105 [==============================] - 0s 2ms/step - loss: 0.1556 - accuracy: 0.9527 - val_loss: 0.1690 - val_accuracy: 0.9459\n",
            "Epoch 85/100\n",
            "105/105 [==============================] - 0s 2ms/step - loss: 0.1555 - accuracy: 0.9527 - val_loss: 0.1689 - val_accuracy: 0.9459\n",
            "Epoch 86/100\n",
            "105/105 [==============================] - 0s 2ms/step - loss: 0.1555 - accuracy: 0.9527 - val_loss: 0.1688 - val_accuracy: 0.9459\n",
            "Epoch 87/100\n",
            "105/105 [==============================] - 0s 2ms/step - loss: 0.1555 - accuracy: 0.9527 - val_loss: 0.1689 - val_accuracy: 0.9459\n",
            "Epoch 88/100\n",
            "105/105 [==============================] - 0s 2ms/step - loss: 0.1553 - accuracy: 0.9527 - val_loss: 0.1689 - val_accuracy: 0.9459\n",
            "Epoch 89/100\n",
            "105/105 [==============================] - 0s 3ms/step - loss: 0.1553 - accuracy: 0.9527 - val_loss: 0.1687 - val_accuracy: 0.9459\n",
            "Epoch 90/100\n",
            "105/105 [==============================] - 0s 2ms/step - loss: 0.1553 - accuracy: 0.9527 - val_loss: 0.1686 - val_accuracy: 0.9459\n",
            "Epoch 91/100\n",
            "105/105 [==============================] - 0s 2ms/step - loss: 0.1552 - accuracy: 0.9527 - val_loss: 0.1685 - val_accuracy: 0.9459\n",
            "Epoch 92/100\n",
            "105/105 [==============================] - 0s 2ms/step - loss: 0.1552 - accuracy: 0.9527 - val_loss: 0.1684 - val_accuracy: 0.9459\n",
            "Epoch 93/100\n",
            "105/105 [==============================] - 0s 2ms/step - loss: 0.1551 - accuracy: 0.9527 - val_loss: 0.1684 - val_accuracy: 0.9459\n",
            "Epoch 94/100\n",
            "105/105 [==============================] - 0s 2ms/step - loss: 0.1551 - accuracy: 0.9527 - val_loss: 0.1684 - val_accuracy: 0.9459\n",
            "Epoch 95/100\n",
            "105/105 [==============================] - 0s 2ms/step - loss: 0.1551 - accuracy: 0.9527 - val_loss: 0.1682 - val_accuracy: 0.9459\n",
            "Epoch 96/100\n",
            "105/105 [==============================] - 0s 2ms/step - loss: 0.1550 - accuracy: 0.9527 - val_loss: 0.1682 - val_accuracy: 0.9459\n",
            "Epoch 97/100\n",
            "105/105 [==============================] - 0s 2ms/step - loss: 0.1550 - accuracy: 0.9527 - val_loss: 0.1682 - val_accuracy: 0.9459\n",
            "Epoch 98/100\n",
            "105/105 [==============================] - 0s 2ms/step - loss: 0.1549 - accuracy: 0.9527 - val_loss: 0.1681 - val_accuracy: 0.9459\n",
            "Epoch 99/100\n",
            "105/105 [==============================] - 0s 2ms/step - loss: 0.1549 - accuracy: 0.9527 - val_loss: 0.1679 - val_accuracy: 0.9459\n",
            "Epoch 100/100\n",
            "105/105 [==============================] - 0s 2ms/step - loss: 0.1549 - accuracy: 0.9527 - val_loss: 0.1679 - val_accuracy: 0.9459\n"
          ]
        }
      ]
    },
    {
      "cell_type": "code",
      "source": [
        "print(\"Train score:\", model.evaluate(X_train, y_train))\n",
        "print(\"Test score:\", model.evaluate(X_test, y_test))"
      ],
      "metadata": {
        "colab": {
          "base_uri": "https://localhost:8080/"
        },
        "id": "upJ1TgcFAnEo",
        "outputId": "289620b2-eb20-4b3f-b614-75fff2b18689"
      },
      "execution_count": 39,
      "outputs": [
        {
          "output_type": "stream",
          "name": "stdout",
          "text": [
            "105/105 [==============================] - 0s 2ms/step - loss: 0.1546 - accuracy: 0.9527\n",
            "Train score: [0.1545735001564026, 0.952652096748352]\n",
            "52/52 [==============================] - 0s 1ms/step - loss: 0.1679 - accuracy: 0.9459\n",
            "Test score: [0.1679123342037201, 0.9458637237548828]\n"
          ]
        }
      ]
    },
    {
      "cell_type": "code",
      "source": [
        "import matplotlib.pyplot as plt\n",
        "plt.plot(r.history['loss'], label = 'loss')\n",
        "plt.plot(r.history['val_loss'], label='val_loss')\n",
        "plt.legend()"
      ],
      "metadata": {
        "colab": {
          "base_uri": "https://localhost:8080/",
          "height": 282
        },
        "id": "zwva_GX1Azqd",
        "outputId": "fc6ebdbb-bbca-4e39-d5c4-fdbe71344f09"
      },
      "execution_count": 40,
      "outputs": [
        {
          "output_type": "execute_result",
          "data": {
            "text/plain": [
              "<matplotlib.legend.Legend at 0x7fa8ea329970>"
            ]
          },
          "metadata": {},
          "execution_count": 40
        },
        {
          "output_type": "display_data",
          "data": {
            "text/plain": [
              "<Figure size 432x288 with 1 Axes>"
            ],
            "image/png": "[encoded data removed]"
          },
          "metadata": {
            "needs_background": "light"
          }
        }
      ]
    },
    {
      "cell_type": "code",
      "source": [
        "plt.plot(r.history['accuracy'], label = 'acc')\n",
        "plt.plot(r.history['val_accuracy'], label='val_acc')\n",
        "plt.legend()"
      ],
      "metadata": {
        "colab": {
          "base_uri": "https://localhost:8080/",
          "height": 282
        },
        "id": "MIJWnN-gA2F1",
        "outputId": "084cd528-75f9-478d-ef7c-074c0ac7531c"
      },
      "execution_count": 41,
      "outputs": [
        {
          "output_type": "execute_result",
          "data": {
            "text/plain": [
              "<matplotlib.legend.Legend at 0x7fa8ecce6e80>"
            ]
          },
          "metadata": {},
          "execution_count": 41
        },
        {
          "output_type": "display_data",
          "data": {
            "text/plain": [
              "<Figure size 432x288 with 1 Axes>"
            ],
            "image/png": "[encoded data removed]"
          },
          "metadata": {
            "needs_background": "light"
          }
        }
      ]
    },
    {
      "cell_type": "code",
      "source": [
        "plt.plot(r.history['loss'], label='loss')\n",
        "plt.legend()"
      ],
      "metadata": {
        "colab": {
          "base_uri": "https://localhost:8080/",
          "height": 282
        },
        "id": "M4KWW7tOA8FS",
        "outputId": "558ae948-575b-4769-c3da-f9d3d493e253"
      },
      "execution_count": 42,
      "outputs": [
        {
          "output_type": "execute_result",
          "data": {
            "text/plain": [
              "<matplotlib.legend.Legend at 0x7fa8ecc86ee0>"
            ]
          },
          "metadata": {},
          "execution_count": 42
        },
        {
          "output_type": "display_data",
          "data": {
            "text/plain": [
              "<Figure size 432x288 with 1 Axes>"
            ],
            "image/png": "[encoded data removed]"
          },
          "metadata": {
            "needs_background": "light"
          }
        }
      ]
    },
    {
      "cell_type": "code",
      "source": [
        "model.layers"
      ],
      "metadata": {
        "colab": {
          "base_uri": "https://localhost:8080/"
        },
        "id": "orjlcmmxBBI1",
        "outputId": "0968bb05-205b-404c-c36b-9beb6a65bc33"
      },
      "execution_count": 43,
      "outputs": [
        {
          "output_type": "execute_result",
          "data": {
            "text/plain": [
              "[<keras.layers.core.dense.Dense at 0x7fa8f13ccf70>]"
            ]
          },
          "metadata": {},
          "execution_count": 43
        }
      ]
    },
    {
      "cell_type": "code",
      "source": [
        "model.layers[0].get_weights()"
      ],
      "metadata": {
        "colab": {
          "base_uri": "https://localhost:8080/"
        },
        "id": "37I6jtIFB-_J",
        "outputId": "60eac958-be95-4b20-c844-e300a7ec7a97"
      },
      "execution_count": 44,
      "outputs": [
        {
          "output_type": "execute_result",
          "data": {
            "text/plain": [
              "[array([[ 1.253717  ],\n",
              "        [ 0.14665829],\n",
              "        [ 0.11951591],\n",
              "        [ 0.18245605],\n",
              "        [-0.04536796],\n",
              "        [-0.22037677],\n",
              "        [-0.28413728],\n",
              "        [-0.28829494],\n",
              "        [-0.00624122],\n",
              "        [ 0.36210662],\n",
              "        [ 0.3512481 ],\n",
              "        [ 0.21822192],\n",
              "        [ 0.24349956],\n",
              "        [ 0.14612423],\n",
              "        [ 0.26711333],\n",
              "        [-0.01549701],\n",
              "        [ 0.0353694 ]], dtype=float32), array([-3.6534743], dtype=float32)]"
            ]
          },
          "metadata": {},
          "execution_count": 44
        }
      ]
    },
    {
      "cell_type": "code",
      "source": [
        "#saving the model\n",
        "model.save('stroke_prediction.h5')"
      ],
      "metadata": {
        "id": "AsUsDw1zwWj8"
      },
      "execution_count": 45,
      "outputs": []
    },
    {
      "cell_type": "code",
      "source": [
        "!ls -lh"
      ],
      "metadata": {
        "colab": {
          "base_uri": "https://localhost:8080/"
        },
        "id": "kT6jwegswjD8",
        "outputId": "f0147401-c98b-4e67-af71-b2ed17c0baac"
      },
      "execution_count": 46,
      "outputs": [
        {
          "output_type": "stream",
          "name": "stdout",
          "text": [
            "total 304K\n",
            "-rw-r--r-- 1 root root 279K Jan 29 12:20 brain_stroke.csv\n",
            "drwxr-xr-x 1 root root 4.0K Jan 26 14:33 sample_data\n",
            "-rw-r--r-- 1 root root  19K Jan 29 12:21 stroke_prediction.h5\n"
          ]
        }
      ]
    },
    {
      "cell_type": "code",
      "source": [
        "new = tf.keras.models.load_model('stroke_prediction.h5')\n",
        "print(new.layers)\n",
        "new.evaluate(X_test,y_test)"
      ],
      "metadata": {
        "colab": {
          "base_uri": "https://localhost:8080/"
        },
        "id": "Kx2cBvoNxAwn",
        "outputId": "bf3f94c7-9b99-416d-a71f-fce1c232010a"
      },
      "execution_count": 47,
      "outputs": [
        {
          "output_type": "stream",
          "name": "stdout",
          "text": [
            "[<keras.layers.core.dense.Dense object at 0x7fa8ecc083a0>]\n",
            "52/52 [==============================] - 0s 1ms/step - loss: 0.1679 - accuracy: 0.9459\n"
          ]
        },
        {
          "output_type": "execute_result",
          "data": {
            "text/plain": [
              "[0.1679123342037201, 0.9458637237548828]"
            ]
          },
          "metadata": {},
          "execution_count": 47
        }
      ]
    },
    {
      "cell_type": "code",
      "source": [
        "#y_pred=new.predict(X_test).flatten()\n",
        "out=pd.DataFrame({'actual':y_test,'predicted':predictions})\n",
        "out=data.copy().merge(out,left_index=True,right_index=True)\n",
        "out[['age','actual','predicted']].sample(20)\n",
        "#out[out['actual']==1][['age','actual','predicted']].sample(20)"
      ],
      "metadata": {
        "colab": {
          "base_uri": "https://localhost:8080/",
          "height": 676
        },
        "id": "14zAlcdIxn-W",
        "outputId": "bb26d1db-2164-440b-fa45-d8043d73fb77"
      },
      "execution_count": 48,
      "outputs": [
        {
          "output_type": "execute_result",
          "data": {
            "text/plain": [
              "       age  actual  predicted\n",
              "1895  64.0       0          0\n",
              "1478  47.0       0          0\n",
              "271   61.0       0          0\n",
              "1736  25.0       0          0\n",
              "3858  47.0       0          0\n",
              "4939  52.0       0          0\n",
              "2829  22.0       0          0\n",
              "4059  61.0       0          0\n",
              "3658  35.0       0          0\n",
              "2408  79.0       0          1\n",
              "74    81.0       1          1\n",
              "3786  28.0       0          0\n",
              "1244  50.0       0          0\n",
              "1814  52.0       0          0\n",
              "636   49.0       0          0\n",
              "528   24.0       0          0\n",
              "4305  26.0       0          0\n",
              "184   81.0       1          1\n",
              "3671  11.0       0          0\n",
              "4260  56.0       0          0"
            ],
            "text/html": [
              "\n",
              "  <div id=\"df-a9b9eba5-8469-476c-aab3-7ce8d9b55b2a\">\n",
              "    <div class=\"colab-df-container\">\n",
              "      <div>\n",
              "<style scoped>\n",
              "    .dataframe tbody tr th:only-of-type {\n",
              "        vertical-align: middle;\n",
              "    }\n",
              "\n",
              "    .dataframe tbody tr th {\n",
              "        vertical-align: top;\n",
              "    }\n",
              "\n",
              "    .dataframe thead th {\n",
              "        text-align: right;\n",
              "    }\n",
              "</style>\n",
              "<table border=\"1\" class=\"dataframe\">\n",
              "  <thead>\n",
              "    <tr style=\"text-align: right;\">\n",
              "      <th></th>\n",
              "      <th>age</th>\n",
              "      <th>actual</th>\n",
              "      <th>predicted</th>\n",
              "    </tr>\n",
              "  </thead>\n",
              "  <tbody>\n",
              "    <tr>\n",
              "      <th>1895</th>\n",
              "      <td>64.0</td>\n",
              "      <td>0</td>\n",
              "      <td>0</td>\n",
              "    </tr>\n",
              "    <tr>\n",
              "      <th>1478</th>\n",
              "      <td>47.0</td>\n",
              "      <td>0</td>\n",
              "      <td>0</td>\n",
              "    </tr>\n",
              "    <tr>\n",
              "      <th>271</th>\n",
              "      <td>61.0</td>\n",
              "      <td>0</td>\n",
              "      <td>0</td>\n",
              "    </tr>\n",
              "    <tr>\n",
              "      <th>1736</th>\n",
              "      <td>25.0</td>\n",
              "      <td>0</td>\n",
              "      <td>0</td>\n",
              "    </tr>\n",
              "    <tr>\n",
              "      <th>3858</th>\n",
              "      <td>47.0</td>\n",
              "      <td>0</td>\n",
              "      <td>0</td>\n",
              "    </tr>\n",
              "    <tr>\n",
              "      <th>4939</th>\n",
              "      <td>52.0</td>\n",
              "      <td>0</td>\n",
              "      <td>0</td>\n",
              "    </tr>\n",
              "    <tr>\n",
              "      <th>2829</th>\n",
              "      <td>22.0</td>\n",
              "      <td>0</td>\n",
              "      <td>0</td>\n",
              "    </tr>\n",
              "    <tr>\n",
              "      <th>4059</th>\n",
              "      <td>61.0</td>\n",
              "      <td>0</td>\n",
              "      <td>0</td>\n",
              "    </tr>\n",
              "    <tr>\n",
              "      <th>3658</th>\n",
              "      <td>35.0</td>\n",
              "      <td>0</td>\n",
              "      <td>0</td>\n",
              "    </tr>\n",
              "    <tr>\n",
              "      <th>2408</th>\n",
              "      <td>79.0</td>\n",
              "      <td>0</td>\n",
              "      <td>1</td>\n",
              "    </tr>\n",
              "    <tr>\n",
              "      <th>74</th>\n",
              "      <td>81.0</td>\n",
              "      <td>1</td>\n",
              "      <td>1</td>\n",
              "    </tr>\n",
              "    <tr>\n",
              "      <th>3786</th>\n",
              "      <td>28.0</td>\n",
              "      <td>0</td>\n",
              "      <td>0</td>\n",
              "    </tr>\n",
              "    <tr>\n",
              "      <th>1244</th>\n",
              "      <td>50.0</td>\n",
              "      <td>0</td>\n",
              "      <td>0</td>\n",
              "    </tr>\n",
              "    <tr>\n",
              "      <th>1814</th>\n",
              "      <td>52.0</td>\n",
              "      <td>0</td>\n",
              "      <td>0</td>\n",
              "    </tr>\n",
              "    <tr>\n",
              "      <th>636</th>\n",
              "      <td>49.0</td>\n",
              "      <td>0</td>\n",
              "      <td>0</td>\n",
              "    </tr>\n",
              "    <tr>\n",
              "      <th>528</th>\n",
              "      <td>24.0</td>\n",
              "      <td>0</td>\n",
              "      <td>0</td>\n",
              "    </tr>\n",
              "    <tr>\n",
              "      <th>4305</th>\n",
              "      <td>26.0</td>\n",
              "      <td>0</td>\n",
              "      <td>0</td>\n",
              "    </tr>\n",
              "    <tr>\n",
              "      <th>184</th>\n",
              "      <td>81.0</td>\n",
              "      <td>1</td>\n",
              "      <td>1</td>\n",
              "    </tr>\n",
              "    <tr>\n",
              "      <th>3671</th>\n",
              "      <td>11.0</td>\n",
              "      <td>0</td>\n",
              "      <td>0</td>\n",
              "    </tr>\n",
              "    <tr>\n",
              "      <th>4260</th>\n",
              "      <td>56.0</td>\n",
              "      <td>0</td>\n",
              "      <td>0</td>\n",
              "    </tr>\n",
              "  </tbody>\n",
              "</table>\n",
              "</div>\n",
              "      <button class=\"colab-df-convert\" onclick=\"convertToInteractive('df-a9b9eba5-8469-476c-aab3-7ce8d9b55b2a')\"\n",
              "              title=\"Convert this dataframe to an interactive table.\"\n",
              "              style=\"display:none;\">\n",
              "        \n",
              "  <svg xmlns=\"http://www.w3.org/2000/svg\" height=\"24px\"viewBox=\"0 0 24 24\"\n",
              "       width=\"24px\">\n",
              "    <path d=\"M0 0h24v24H0V0z\" fill=\"none\"/>\n",
              "    <path d=\"M18.56 5.44l.94 2.06.94-2.06 2.06-.94-2.06-.94-.94-2.06-.94 2.06-2.06.94zm-11 1L8.5 8.5l.94-2.06 2.06-.94-2.06-.94L8.5 2.5l-.94 2.06-2.06.94zm10 10l.94 2.06.94-2.06 2.06-.94-2.06-.94-.94-2.06-.94 2.06-2.06.94z\"/><path d=\"M17.41 7.96l-1.37-1.37c-.4-.4-.92-.59-1.43-.59-.52 0-1.04.2-1.43.59L10.3 9.45l-7.72 7.72c-.78.78-.78 2.05 0 2.83L4 21.41c.39.39.9.59 1.41.59.51 0 1.02-.2 1.41-.59l7.78-7.78 2.81-2.81c.8-.78.8-2.07 0-2.86zM5.41 20L4 18.59l7.72-7.72 1.47 1.35L5.41 20z\"/>\n",
              "  </svg>\n",
              "      </button>\n",
              "      \n",
              "  <style>\n",
              "    .colab-df-container {\n",
              "      display:flex;\n",
              "      flex-wrap:wrap;\n",
              "      gap: 12px;\n",
              "    }\n",
              "\n",
              "    .colab-df-convert {\n",
              "      background-color: #E8F0FE;\n",
              "      border: none;\n",
              "      border-radius: 50%;\n",
              "      cursor: pointer;\n",
              "      display: none;\n",
              "      fill: #1967D2;\n",
              "      height: 32px;\n",
              "      padding: 0 0 0 0;\n",
              "      width: 32px;\n",
              "    }\n",
              "\n",
              "    .colab-df-convert:hover {\n",
              "      background-color: #E2EBFA;\n",
              "      box-shadow: 0px 1px 2px rgba(60, 64, 67, 0.3), 0px 1px 3px 1px rgba(60, 64, 67, 0.15);\n",
              "      fill: #174EA6;\n",
              "    }\n",
              "\n",
              "    [theme=dark] .colab-df-convert {\n",
              "      background-color: #3B4455;\n",
              "      fill: #D2E3FC;\n",
              "    }\n",
              "\n",
              "    [theme=dark] .colab-df-convert:hover {\n",
              "      background-color: #434B5C;\n",
              "      box-shadow: 0px 1px 3px 1px rgba(0, 0, 0, 0.15);\n",
              "      filter: drop-shadow(0px 1px 2px rgba(0, 0, 0, 0.3));\n",
              "      fill: #FFFFFF;\n",
              "    }\n",
              "  </style>\n",
              "\n",
              "      <script>\n",
              "        const buttonEl =\n",
              "          document.querySelector('#df-a9b9eba5-8469-476c-aab3-7ce8d9b55b2a button.colab-df-convert');\n",
              "        buttonEl.style.display =\n",
              "          google.colab.kernel.accessAllowed ? 'block' : 'none';\n",
              "\n",
              "        async function convertToInteractive(key) {\n",
              "          const element = document.querySelector('#df-a9b9eba5-8469-476c-aab3-7ce8d9b55b2a');\n",
              "          const dataTable =\n",
              "            await google.colab.kernel.invokeFunction('convertToInteractive',\n",
              "                                                     [key], {});\n",
              "          if (!dataTable) return;\n",
              "\n",
              "          const docLinkHtml = 'Like what you see? Visit the ' +\n",
              "            '<a target=\"_blank\" href=https://colab.research.google.com/notebooks/data_table.ipynb>data table notebook</a>'\n",
              "            + ' to learn more about interactive tables.';\n",
              "          element.innerHTML = '';\n",
              "          dataTable['output_type'] = 'display_data';\n",
              "          await google.colab.output.renderOutput(dataTable, element);\n",
              "          const docLink = document.createElement('div');\n",
              "          docLink.innerHTML = docLinkHtml;\n",
              "          element.appendChild(docLink);\n",
              "        }\n",
              "      </script>\n",
              "    </div>\n",
              "  </div>\n",
              "  "
            ]
          },
          "metadata": {},
          "execution_count": 48
        }
      ]
    },
    {
      "cell_type": "code",
      "source": [
        "import matplotlib.pyplot as plt "
      ],
      "metadata": {
        "id": "aFKzWy58_at0"
      },
      "execution_count": 49,
      "outputs": []
    },
    {
      "cell_type": "code",
      "source": [
        "#gra = out.sample(10).sort_values(by='actual')\n",
        "#plt.plot(gra['actual'])\n",
        "#plt.plot(gra['predicted'])\n",
        "#plt.title('Accuracy')\n",
        "#plt.ylabel('Time t')\n",
        "#plt.xlabel('epoch')\n",
        "#plt.legend()\n",
        "#plt.show()"
      ],
      "metadata": {
        "id": "S4nE1YcT18Ht"
      },
      "execution_count": 50,
      "outputs": []
    },
    {
      "cell_type": "code",
      "source": [
        "#representing "
      ],
      "metadata": {
        "id": "WzRBoY2e_93z"
      },
      "execution_count": 51,
      "outputs": []
    },
    {
      "cell_type": "code",
      "source": [
        "data.drop(columns=['stroke']).to_numpy()[0]"
      ],
      "metadata": {
        "colab": {
          "base_uri": "https://localhost:8080/"
        },
        "id": "1nyPuYfTCA9y",
        "outputId": "9a83e5ae-daa6-491f-ed06-4f69159e48fb"
      },
      "execution_count": 53,
      "outputs": [
        {
          "output_type": "execute_result",
          "data": {
            "text/plain": [
              "array([ 67.  ,   0.  ,   1.  , 228.69,  36.6 ,   0.  ,   1.  ,   0.  ,\n",
              "         0.  ,   0.  ,   1.  ,   0.  ,   1.  ,   0.  ,   0.  ,   1.  ,\n",
              "         1.  ])"
            ]
          },
          "metadata": {},
          "execution_count": 53
        }
      ]
    },
    {
      "cell_type": "code",
      "source": [],
      "metadata": {
        "id": "UksTd6DdCQpo"
      },
      "execution_count": null,
      "outputs": []
    }
  ]
}